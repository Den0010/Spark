{
 "cells": [
  {
   "cell_type": "code",
   "execution_count": 24,
   "id": "881e3804",
   "metadata": {},
   "outputs": [],
   "source": [
    "import pyspark.sql.types as T\n",
    "import pyspark.sql.functions as F\n",
    "import datetime"
   ]
  },
  {
   "cell_type": "code",
   "execution_count": 25,
   "id": "e65d61ea",
   "metadata": {},
   "outputs": [],
   "source": [
    "from pyspark.sql import SparkSession\n",
    "\n",
    "spark = SparkSession.builder.master(\"local\")\\\n",
    "        .appName('PySpark_Tutorial').\\\n",
    "        config(\"spark.driver.bindAddress\",\"localhost\").\\\n",
    "        config(\"spark.ui.port\",\"4040\").\\\n",
    "        getOrCreate()\n"
   ]
  },
  {
   "cell_type": "code",
   "execution_count": 26,
   "id": "49f3dbd0",
   "metadata": {},
   "outputs": [],
   "source": [
    "schema_web = T.StructType([\n",
    "    T.StructField(\"id\",T.StringType(),True),\n",
    "    T.StructField(\"timestamp\",T.LongType(),True),\n",
    "    T.StructField(\"type\",T.StringType(),True),\n",
    "    T.StructField(\"page_id\",T.IntegerType(),True),\n",
    "    T.StructField(\"tag\",T.StringType(),True),\n",
    "    T.StructField(\"sign\",T.BooleanType(),True),])\n",
    "\n",
    "schema_lk = T.StructType([\n",
    "    T.StructField(\"id\",T.StringType(),True),\n",
    "    T.StructField(\"user_id\",T.IntegerType(),True),\n",
    "    T.StructField(\"fio\",T.StringType(),True),\n",
    "    T.StructField(\"dob\",T.DateType(),True),\n",
    "    T.StructField(\"doc\",T.DateType(),True)])"
   ]
  },
  {
   "cell_type": "code",
   "execution_count": 27,
   "id": "e5952f08",
   "metadata": {},
   "outputs": [],
   "source": [
    "data_web =[(1, 1669986321, \"visit\", 101, 'Sport', False),\n",
    "           (1, 1667622486, \"scroll\", 101, 'Sport', False),\n",
    "           (1, 1667627500, \"click\", 101, 'Sport', False),\n",
    "           (1, 1667627505, \"visit\", 102, 'Politics', False),\n",
    "           (1, 1667627565, \"click\", 102, 'Politics', False),\n",
    "           (1, 1667627586, \"visit\", 103, 'Sport', False),\n",
    "           (2, 1667628001, \"visit\", 104, 'Politics', True),\n",
    "           (2, 1667628101, \"scroll\", 104, 'Politics', True),\n",
    "           (2, 1667628151, \"click\", 104, 'Politics', True),\n",
    "           (2, 1667628200, \"visit\", 105, 'Business', True),\n",
    "           (2, 1667628226, \"click\", 105, 'Business', True),\n",
    "           (2, 1667628317, \"visit\", 106, 'Business', True),\n",
    "           (2, 1667628359, \"scroll\", 106, 'Business', True),\n",
    "           (3, 1667628422, \"visit\", 101, 'Sport', False),\n",
    "           (3, 1667628486, \"scroll\", 101, 'Sport', False),\n",
    "           (4, 1667628505, \"visit\", 106, 'Business', False),\n",
    "           (5, 1667628511, \"visit\", 101, 'Sport', True),\n",
    "           (5, 1667628901, \"click\", 101, 'Sport', True),\n",
    "           (5, 1667628926, \"visit\", 102, 'Politics', True),\n",
    "           (5, 1667628976, \"click\", 102, 'Politics', True)]\n",
    "\n",
    "data_lk = [\n",
    "    (101, 2, \"Иванов Иван Иванович\", datetime.datetime(1990, 7, 5), datetime.datetime(2016, 8, 1)),\n",
    "    (102, 5, \"Александрова Александра александровна\", datetime.datetime(1995, 1, 22), datetime.datetime(2017, 10, 7)),    \n",
    "]\n",
    "\n",
    "df_web = spark.createDataFrame(data = data_web, schema = schema_web)\n",
    "df_lk = spark.createDataFrame(data = data_lk, schema = schema_lk)"
   ]
  },
  {
   "cell_type": "code",
   "execution_count": 28,
   "id": "f89a0b12",
   "metadata": {},
   "outputs": [
    {
     "data": {
      "text/plain": [
       "['id', 'timestamp', 'type', 'page_id', 'tag', 'sign']"
      ]
     },
     "execution_count": 28,
     "metadata": {},
     "output_type": "execute_result"
    }
   ],
   "source": [
    "df_web.columns"
   ]
  },
  {
   "cell_type": "code",
   "execution_count": 29,
   "id": "9fd45cab",
   "metadata": {},
   "outputs": [],
   "source": [
    "df_web = df_web.select(*[i for i in df_web.columns if i != \"timestamp\"],\n",
    "                    F.from_unixtime(\"timestamp\").alias(\"event_time\"))"
   ]
  },
  {
   "cell_type": "code",
   "execution_count": 30,
   "id": "66fcf03b",
   "metadata": {},
   "outputs": [
    {
     "name": "stdout",
     "output_type": "stream",
     "text": [
      "+---+------+-------+--------+-----+-------------------+\n",
      "| id|  type|page_id|     tag| sign|         event_time|\n",
      "+---+------+-------+--------+-----+-------------------+\n",
      "|  1| visit|    101|   Sport|false|2022-12-02 13:05:21|\n",
      "|  1|scroll|    101|   Sport|false|2022-11-05 04:28:06|\n",
      "|  1| click|    101|   Sport|false|2022-11-05 05:51:40|\n",
      "|  1| visit|    102|Politics|false|2022-11-05 05:51:45|\n",
      "|  1| click|    102|Politics|false|2022-11-05 05:52:45|\n",
      "|  1| visit|    103|   Sport|false|2022-11-05 05:53:06|\n",
      "|  2| visit|    104|Politics| true|2022-11-05 06:00:01|\n",
      "|  2|scroll|    104|Politics| true|2022-11-05 06:01:41|\n",
      "|  2| click|    104|Politics| true|2022-11-05 06:02:31|\n",
      "|  2| visit|    105|Business| true|2022-11-05 06:03:20|\n",
      "|  2| click|    105|Business| true|2022-11-05 06:03:46|\n",
      "|  2| visit|    106|Business| true|2022-11-05 06:05:17|\n",
      "|  2|scroll|    106|Business| true|2022-11-05 06:05:59|\n",
      "|  3| visit|    101|   Sport|false|2022-11-05 06:07:02|\n",
      "|  3|scroll|    101|   Sport|false|2022-11-05 06:08:06|\n",
      "|  4| visit|    106|Business|false|2022-11-05 06:08:25|\n",
      "|  5| visit|    101|   Sport| true|2022-11-05 06:08:31|\n",
      "|  5| click|    101|   Sport| true|2022-11-05 06:15:01|\n",
      "|  5| visit|    102|Politics| true|2022-11-05 06:15:26|\n",
      "|  5| click|    102|Politics| true|2022-11-05 06:16:16|\n",
      "+---+------+-------+--------+-----+-------------------+\n",
      "\n"
     ]
    }
   ],
   "source": [
    "df_web.show()"
   ]
  },
  {
   "cell_type": "code",
   "execution_count": 31,
   "id": "e14deeec",
   "metadata": {},
   "outputs": [
    {
     "name": "stdout",
     "output_type": "stream",
     "text": [
      "+---+---------+-----------+\n",
      "| id|event_cnt|max_page_id|\n",
      "+---+---------+-----------+\n",
      "|  2|        7|        106|\n",
      "|  1|        6|        103|\n",
      "|  5|        4|        102|\n",
      "|  3|        2|        101|\n",
      "|  4|        1|        106|\n",
      "+---+---------+-----------+\n",
      "\n"
     ]
    }
   ],
   "source": [
    "df_web.groupby(\"id\")\\\n",
    "        .agg(F.count(\"*\").alias(\"event_cnt\"),\n",
    "        F.max(\"page_id\").alias(\"max_page_id\"))\\\n",
    "        .orderBy(\"event_cnt\", ascending = False)\\\n",
    "        .show(10)"
   ]
  },
  {
   "cell_type": "code",
   "execution_count": 66,
   "id": "0519acc8",
   "metadata": {},
   "outputs": [
    {
     "name": "stdout",
     "output_type": "stream",
     "text": [
      "+---+---------+-----+\n",
      "| id|event_cnt| sign|\n",
      "+---+---------+-----+\n",
      "|  2|        7| true|\n",
      "|  1|        6|false|\n",
      "|  5|        4| true|\n",
      "|  3|        2|false|\n",
      "|  4|        1|false|\n",
      "+---+---------+-----+\n",
      "\n"
     ]
    },
    {
     "name": "stderr",
     "output_type": "stream",
     "text": [
      "                                                                                \r"
     ]
    },
    {
     "name": "stdout",
     "output_type": "stream",
     "text": [
      "+-----+-----+\n",
      "| sign|count|\n",
      "+-----+-----+\n",
      "| true|    2|\n",
      "|false|    3|\n",
      "+-----+-----+\n",
      "\n"
     ]
    },
    {
     "name": "stderr",
     "output_type": "stream",
     "text": [
      "                                                                                \r"
     ]
    },
    {
     "data": {
      "text/plain": [
       "40.0"
      ]
     },
     "execution_count": 66,
     "metadata": {},
     "output_type": "execute_result"
    }
   ],
   "source": [
    "df_web2 = df_web.groupby(\"id\")\\\n",
    "        .agg(F.count(\"*\").alias(\"event_cnt\"),\n",
    "        F.max(\"sign\").alias(\"sign\"))\\\n",
    "        .orderBy(\"event_cnt\", ascending = False)\n",
    "df_web2.show()\n",
    "x = df_web2.groupby(\"sign\").count()\n",
    "x.show()\n",
    "y = x.filter(x.sign == \"true\").collect()[0][1]\n",
    "y*100/df_web2.count()\n"
   ]
  },
  {
   "cell_type": "code",
   "execution_count": 33,
   "id": "e4545136",
   "metadata": {},
   "outputs": [
    {
     "name": "stdout",
     "output_type": "stream",
     "text": [
      "+---+-----+-------+--------+-----+-------------------+\n",
      "| id| type|page_id|     tag| sign|         event_time|\n",
      "+---+-----+-------+--------+-----+-------------------+\n",
      "|  1|click|    101|   Sport|false|2022-11-05 05:51:40|\n",
      "|  1|click|    102|Politics|false|2022-11-05 05:52:45|\n",
      "|  2|click|    104|Politics| true|2022-11-05 06:02:31|\n",
      "|  2|click|    105|Business| true|2022-11-05 06:03:46|\n",
      "|  5|click|    101|   Sport| true|2022-11-05 06:15:01|\n",
      "|  5|click|    102|Politics| true|2022-11-05 06:16:16|\n",
      "+---+-----+-------+--------+-----+-------------------+\n",
      "\n",
      "+-------+-----+\n",
      "|page_id|count|\n",
      "+-------+-----+\n",
      "|    101|    2|\n",
      "|    102|    2|\n",
      "|    105|    1|\n",
      "|    104|    1|\n",
      "+-------+-----+\n",
      "\n"
     ]
    }
   ],
   "source": [
    "df_web3 = df_web.filter(df_web.type == \"click\")\n",
    "df_web3.show()\n",
    "df_web3.groupBy(\"page_id\").count().show(5)"
   ]
  },
  {
   "cell_type": "code",
   "execution_count": 44,
   "id": "62c13513",
   "metadata": {},
   "outputs": [
    {
     "name": "stdout",
     "output_type": "stream",
     "text": [
      "+---+------+-------+--------+-----+-------------------+-------------+\n",
      "| id|  type|page_id|     tag| sign|         event_time|time_interval|\n",
      "+---+------+-------+--------+-----+-------------------+-------------+\n",
      "|  1| visit|    101|   Sport|false|2022-12-02 13:05:21|            3|\n",
      "|  1|scroll|    101|   Sport|false|2022-11-05 04:28:06|            1|\n",
      "|  1| click|    101|   Sport|false|2022-11-05 05:51:40|            1|\n",
      "|  1| visit|    102|Politics|false|2022-11-05 05:51:45|            1|\n",
      "|  1| click|    102|Politics|false|2022-11-05 05:52:45|            1|\n",
      "+---+------+-------+--------+-----+-------------------+-------------+\n",
      "only showing top 5 rows\n",
      "\n",
      "+-------------+-----+\n",
      "|time_interval|count|\n",
      "+-------------+-----+\n",
      "|            1|   19|\n",
      "|            3|    1|\n",
      "+-------------+-----+\n",
      "\n"
     ]
    }
   ],
   "source": [
    "df_web4 = df_web.withColumn(\"time_interval\", F.floor(F.hour(\"event_time\") / F.lit(4)))\n",
    "df_web4.show(5)\n",
    "df_web4.groupBy(\"time_interval\").count().show()"
   ]
  },
  {
   "cell_type": "code",
   "execution_count": 45,
   "id": "3b132cff",
   "metadata": {},
   "outputs": [],
   "source": [
    "df_all = df_lk.alias(\"lk\").join(df_web.alias(\"web\"),\n",
    "                                    on = [F.col(\"lk.user_id\") == F.col(\"web.id\")],\n",
    "                                    how = \"left\")"
   ]
  },
  {
   "cell_type": "code",
   "execution_count": 48,
   "id": "9fa5ad9e",
   "metadata": {},
   "outputs": [
    {
     "name": "stdout",
     "output_type": "stream",
     "text": [
      "+---+-------+--------------------+----------+----------+---+-----+-------+-----+----+-------------------+\n",
      "| id|user_id|                 fio|       dob|       doc| id| type|page_id|  tag|sign|         event_time|\n",
      "+---+-------+--------------------+----------+----------+---+-----+-------+-----+----+-------------------+\n",
      "|102|      5|Александрова Алек...|1995-01-22|2017-10-07|  5|visit|    101|Sport|true|2022-11-05 06:08:31|\n",
      "|102|      5|Александрова Алек...|1995-01-22|2017-10-07|  5|click|    101|Sport|true|2022-11-05 06:15:01|\n",
      "+---+-------+--------------------+----------+----------+---+-----+-------+-----+----+-------------------+\n",
      "\n"
     ]
    }
   ],
   "source": [
    "df_all.filter(df_all.tag == \"Sport\").show()"
   ]
  }
 ],
 "metadata": {
  "kernelspec": {
   "display_name": "Python 3 (ipykernel)",
   "language": "python",
   "name": "python3"
  },
  "language_info": {
   "codemirror_mode": {
    "name": "ipython",
    "version": 3
   },
   "file_extension": ".py",
   "mimetype": "text/x-python",
   "name": "python",
   "nbconvert_exporter": "python",
   "pygments_lexer": "ipython3",
   "version": "3.9.2"
  }
 },
 "nbformat": 4,
 "nbformat_minor": 5
}
